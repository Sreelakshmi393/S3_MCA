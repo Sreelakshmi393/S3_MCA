{
 "cells": [
  {
   "cell_type": "code",
   "execution_count": 2,
   "metadata": {},
   "outputs": [],
   "source": [
    "import numpy as np"
   ]
  },
  {
   "cell_type": "code",
   "execution_count": 6,
   "metadata": {},
   "outputs": [
    {
     "name": "stdout",
     "output_type": "stream",
     "text": [
      "L1>L2 [False False  True False] \n",
      "L1<L2 [ True  True False  True] \n",
      "L1>=L2 [False False  True False] \n",
      "L1<=L2 [ True  True False  True] \n",
      "L1=L2 [False False False False]\n"
     ]
    }
   ],
   "source": [
    "# Write a numpy program to evaluate 2 list.\n",
    "l1 = np.array([1,2,3,4])\n",
    "l2 = np.array([5,3,2,7])\n",
    "gt = np.greater(l1,l2)\n",
    "lt = np.less(l1,l2)\n",
    "ge = np.greater_equal(l1,l2)\n",
    "le = np.less_equal(l1,l2)\n",
    "eq = np.equal(l1,l2)\n",
    "print(\"L1>L2\",gt, \"\\nL1<L2\",lt, \"\\nL1>=L2\",ge,\"\\nL1<=L2\",le,\"\\nL1=L2\",eq)"
   ]
  },
  {
   "cell_type": "code",
   "execution_count": 9,
   "metadata": {},
   "outputs": [
    {
     "name": "stdout",
     "output_type": "stream",
     "text": [
      "[50 52 54 56 58 60 62 64 66 68 70 72 74 76 78 80 82 84 86 88 90]\n"
     ]
    }
   ],
   "source": [
    " # Write a numpy program to generate even number array from 50-90.\n",
    "l = np.arange(50,91,2)\n",
    "print(l)"
   ]
  },
  {
   "cell_type": "code",
   "execution_count": 11,
   "metadata": {},
   "outputs": [
    {
     "name": "stdout",
     "output_type": "stream",
     "text": [
      "[[1 0 0 0]\n",
      " [0 1 0 0]\n",
      " [0 0 1 0]\n",
      " [0 0 0 1]]\n"
     ]
    }
   ],
   "source": [
    "# Write a numpy program to generate a 4x4 identity matrix\n",
    "i = np.identity(4,dtype=int)\n",
    "print(i)"
   ]
  },
  {
   "cell_type": "code",
   "execution_count": 12,
   "metadata": {},
   "outputs": [
    {
     "name": "stdout",
     "output_type": "stream",
     "text": [
      "[[1 0 0 0 0]\n",
      " [0 2 0 0 0]\n",
      " [0 0 3 0 0]\n",
      " [0 0 0 4 0]\n",
      " [0 0 0 0 5]]\n"
     ]
    }
   ],
   "source": [
    "# Write a program to generate a 5x5 0 matrix with elements on main diagonal: 1,2,3,4,5.\n",
    "d = np.diag([1,2,3,4,5])\n",
    "print(d)"
   ]
  },
  {
   "cell_type": "code",
   "execution_count": 26,
   "metadata": {},
   "outputs": [
    {
     "name": "stdout",
     "output_type": "stream",
     "text": [
      "Original [ 0  1  2  3  4  5  6  7  8  9 10 11 12 13 14 15 16 17 18 19 20]\n",
      "After change  [  0   1   2   3   4   5   6   7   8  -9 -10 -11 -12 -13 -14 -15  16  17\n",
      "  18  19  20]\n"
     ]
    }
   ],
   "source": [
    "# Write a numpy program to create a vector with the values from 0 to 20 and change the sign of the numbers in the range 9 to 15.\n",
    "l = np.arange(0,21)\n",
    "print(\"Original\",l)\n",
    "for i in l:\n",
    "    if i>=9 and i<=15:\n",
    "        l[i]=i*-1\n",
    "print(\"After change \",l)    "
   ]
  },
  {
   "cell_type": "code",
   "execution_count": 31,
   "metadata": {},
   "outputs": [
    {
     "name": "stdout",
     "output_type": "stream",
     "text": [
      "Sum of array  :  21\n",
      "Sum of row array  :  [ 6 15]\n",
      "Sum of column array  :  [5 7 9]\n"
     ]
    }
   ],
   "source": [
    "#  Write a numpy program to compute the sum of all elements, sum of each column, and sum of each row for a given array.\n",
    "a = [[1,2,3],\n",
    "     [4,5,6]]\n",
    "ar = np.array(a)\n",
    "\n",
    "print(\"Sum of array  : \",ar.sum())\n",
    "print(\"Sum of row array  : \",ar.sum(1))\n",
    "print(\"Sum of column array  : \",ar.sum(0))\n",
    "\n"
   ]
  },
  {
   "cell_type": "code",
   "execution_count": 38,
   "metadata": {},
   "outputs": [
    {
     "name": "stdout",
     "output_type": "stream",
     "text": [
      "[ 0  1  2  3  4  5  6  7  8  9 10 11 12 13 14 15 16 17 18 19 20]\n"
     ]
    }
   ],
   "source": [
    "n = np.arange(0,21)\n",
    "with open (\"file.txt\",\"w\") as f:\n",
    "    f.write(str(n))\n",
    "with open (\"file.txt\",\"r\") as f:\n",
    "    print(f.readline())"
   ]
  },
  {
   "cell_type": "code",
   "execution_count": 46,
   "metadata": {},
   "outputs": [
    {
     "name": "stdout",
     "output_type": "stream",
     "text": [
      "[False  True]\n"
     ]
    },
    {
     "data": {
      "text/plain": [
       "False"
      ]
     },
     "execution_count": 46,
     "metadata": {},
     "output_type": "execute_result"
    }
   ],
   "source": [
    "a1 = np.array([2,4])\n",
    "a2 = np.array([3,4])\n",
    "print(np.equal(a1,a2))\n",
    "\n",
    "np.array_equal(a1,a2)"
   ]
  },
  {
   "cell_type": "code",
   "execution_count": 71,
   "metadata": {},
   "outputs": [
    {
     "name": "stdout",
     "output_type": "stream",
     "text": [
      "Original\n",
      " [[ 4 11 29  5]\n",
      " [11  9 11  8]\n",
      " [ 6 16  1  5]\n",
      " [26 19 29  4]]\n",
      "After swapping \n",
      " [[26 19 29  4]\n",
      " [11  9 11  8]\n",
      " [ 6 16  1  5]\n",
      " [ 4 11 29  5]]\n"
     ]
    }
   ],
   "source": [
    "# Write a numpy program to create a 4x4 array with random values. Create a new array from the set array by swapping 1st and last rows.\n",
    "import random\n",
    "l1 = []\n",
    "for i in range(4):\n",
    "    l2 = []\n",
    "    for j in range(4):\n",
    "        l2.append(random.randint(1,30))\n",
    "    l1.append(l2)\n",
    "m1 = np.array(l1)\n",
    "print(\"Original\\n\",m1)\n",
    "m1[[0, -1]] = m1[[-1, 0]]\n",
    "print(\"After swapping \\n\",m1)"
   ]
  },
  {
   "cell_type": "code",
   "execution_count": 64,
   "metadata": {},
   "outputs": [
    {
     "name": "stdout",
     "output_type": "stream",
     "text": [
      "[[4 2 4 9]\n",
      " [3 5 1 6]\n",
      " [1 2 3 5]\n",
      " [6 3 5 8]]\n"
     ]
    }
   ],
   "source": [
    "arr = np.random.randint(1,10,(4,4))\n",
    "print(arr)"
   ]
  },
  {
   "cell_type": "code",
   "execution_count": 65,
   "metadata": {},
   "outputs": [
    {
     "name": "stdout",
     "output_type": "stream",
     "text": [
      "[[0.60279505 0.44299376 0.52343351]\n",
      " [0.55608534 0.13985172 0.86418428]\n",
      " [0.06065748 0.69045875 0.16716282]\n",
      " [0.52588807 0.94808481 0.17383038]]\n"
     ]
    },
    {
     "name": "stdout",
     "output_type": "stream",
     "text": [
      "[[0.51730577 0.71359701 0.09856612]\n",
      " [0.18092822 0.13386909 0.15252376]\n",
      " [0.28408281 0.92888387 0.47555893]\n",
      " [0.28167773 0.63153769 0.84178127]]\n"
     ]
    }
   ],
   "source": [
    "arr = np.random.rand(4,3)\n",
    "print(arr)"
   ]
  },
  {
   "cell_type": "code",
   "execution_count": 72,
   "metadata": {},
   "outputs": [
    {
     "name": "stdout",
     "output_type": "stream",
     "text": [
      "Product [ 5 12 21 32]\n"
     ]
    }
   ],
   "source": [
    "a1 = np.array([1,2,3,4])\n",
    "a2 = np.array([5,6,7,8])\n",
    "print(\"Product\", a1*a2)"
   ]
  },
  {
   "cell_type": "markdown",
   "metadata": {},
   "source": [
    "### Matrix Operations"
   ]
  },
  {
   "cell_type": "code",
   "execution_count": 74,
   "metadata": {},
   "outputs": [
    {
     "name": "stdout",
     "output_type": "stream",
     "text": [
      "[[1 2]\n",
      " [3 4]]\n",
      "--------------------\n",
      "[[1 2]\n",
      " [3 4]]\n"
     ]
    }
   ],
   "source": [
    "mat1 = []\n",
    "mat2 = []\n",
    "\n",
    "r1, c1 = list(map(int,input(\"Enter rows and columns of mat 1: \").split()))\n",
    "r2, c2 = list(map(int, input(\"Enter rows and column of mat 2 : \").split()))\n",
    "\n",
    "ele = list(map(int,input(\"Enter the elements of mat 1: \").split()))\n",
    "mat1.append(ele)\n",
    "m1 = np.array(mat1).reshape(r1,c1)\n",
    "\n",
    "ele = list(map(int,input(\"Enter the elements of mat 2: \").split()))\n",
    "mat2.append(ele)\n",
    "m2 = np.array(mat2).reshape(r2,c2)\n",
    "\n",
    "print(m1)\n",
    "print(\"--------------------\")\n",
    "print(m2)\n"
   ]
  },
  {
   "cell_type": "code",
   "execution_count": 78,
   "metadata": {},
   "outputs": [
    {
     "name": "stdout",
     "output_type": "stream",
     "text": [
      "Dot product : \n",
      "[[ 7 10]\n",
      " [15 22]]\n"
     ]
    }
   ],
   "source": [
    "dot = m2.dot(m1)\n",
    "print(\"Dot product : \")\n",
    "print(dot)"
   ]
  },
  {
   "cell_type": "code",
   "execution_count": 83,
   "metadata": {},
   "outputs": [
    {
     "name": "stdout",
     "output_type": "stream",
     "text": [
      "Transpose\n",
      "[[1 3]\n",
      " [2 4]]\n"
     ]
    }
   ],
   "source": [
    "print(\"Transpose\")\n",
    "print(np.transpose(m1))"
   ]
  },
  {
   "cell_type": "code",
   "execution_count": 82,
   "metadata": {},
   "outputs": [
    {
     "name": "stdout",
     "output_type": "stream",
     "text": [
      "Determinant\n",
      "-2.0000000000000004\n"
     ]
    }
   ],
   "source": [
    "print(\"Determinant\")\n",
    "print(np.linalg.det(m1))"
   ]
  },
  {
   "cell_type": "code",
   "execution_count": 84,
   "metadata": {},
   "outputs": [
    {
     "name": "stdout",
     "output_type": "stream",
     "text": [
      "Inverse\n",
      "[[-2.   1. ]\n",
      " [ 1.5 -0.5]]\n"
     ]
    }
   ],
   "source": [
    "print(\"Inverse\")\n",
    "print(np.linalg.inv(m1))"
   ]
  },
  {
   "cell_type": "code",
   "execution_count": 85,
   "metadata": {},
   "outputs": [
    {
     "name": "stdout",
     "output_type": "stream",
     "text": [
      "Trace\n",
      "5\n"
     ]
    }
   ],
   "source": [
    "print(\"Trace\")\n",
    "print(np.trace(m1))"
   ]
  },
  {
   "cell_type": "code",
   "execution_count": 86,
   "metadata": {},
   "outputs": [
    {
     "name": "stdout",
     "output_type": "stream",
     "text": [
      "Rank\n",
      "2\n"
     ]
    }
   ],
   "source": [
    "print(\"Rank\")\n",
    "print(np.linalg.matrix_rank(m1))"
   ]
  },
  {
   "cell_type": "code",
   "execution_count": 87,
   "metadata": {},
   "outputs": [
    {
     "name": "stdout",
     "output_type": "stream",
     "text": [
      "Eigen\n",
      "EigResult(eigenvalues=array([-0.37228132,  5.37228132]), eigenvectors=array([[-0.82456484, -0.41597356],\n",
      "       [ 0.56576746, -0.90937671]]))\n"
     ]
    }
   ],
   "source": [
    "print(\"Eigen\")\n",
    "print(np.linalg.eig(m1))"
   ]
  },
  {
   "cell_type": "code",
   "execution_count": null,
   "metadata": {},
   "outputs": [],
   "source": []
  }
 ],
 "metadata": {
  "kernelspec": {
   "display_name": "Python 3",
   "language": "python",
   "name": "python3"
  },
  "language_info": {
   "codemirror_mode": {
    "name": "ipython",
    "version": 3
   },
   "file_extension": ".py",
   "mimetype": "text/x-python",
   "name": "python",
   "nbconvert_exporter": "python",
   "pygments_lexer": "ipython3",
   "version": "3.12.5"
  }
 },
 "nbformat": 4,
 "nbformat_minor": 2
}
