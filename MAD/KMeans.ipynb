{
 "cells": [
  {
   "cell_type": "code",
   "execution_count": 2,
   "id": "616d386d-32a8-4cc7-ba87-18ac88f541e1",
   "metadata": {},
   "outputs": [],
   "source": [
    "import numpy as np\n",
    "import matplotlib.pyplot as plt\n",
    "from sklearn.datasets import make_blobs\n",
    "from sklearn.cluster import KMeans"
   ]
  },
  {
   "cell_type": "code",
   "execution_count": null,
   "id": "a3ff6b94-81bd-4499-b1e9-b5eaca3009f1",
   "metadata": {},
   "outputs": [],
   "source": [
    "data,_ = make_blobs(n_samples=300)\n",
    "m = KMeans(n_cluster = 3,random_state=42,n_init='auto')\n",
    "m.fit(data)\n",
    "labels=m.labels_\n",
    "set(labels)\n",
    "centroids = m.cluster_centers_\n",
    "plt.scatter(data[:,0],data[:,1],c=labels,cmap='viridis')\n",
    "plt.scatter(centroids[:,0],centroids[:1"
   ]
  }
 ],
 "metadata": {
  "kernelspec": {
   "display_name": "Python 3 (ipykernel)",
   "language": "python",
   "name": "python3"
  },
  "language_info": {
   "codemirror_mode": {
    "name": "ipython",
    "version": 3
   },
   "file_extension": ".py",
   "mimetype": "text/x-python",
   "name": "python",
   "nbconvert_exporter": "python",
   "pygments_lexer": "ipython3",
   "version": "3.12.5"
  }
 },
 "nbformat": 4,
 "nbformat_minor": 5
}
