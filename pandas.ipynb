{
 "cells": [
  {
   "cell_type": "code",
   "execution_count": 1,
   "id": "f26affd4-cb65-4cf1-b384-7705afee61ef",
   "metadata": {},
   "outputs": [],
   "source": [
    "import pandas as pd"
   ]
  },
  {
   "cell_type": "markdown",
   "id": "7d765c82-b848-42b4-9d14-c8d488079548",
   "metadata": {},
   "source": [
    "### 1.Write a python program to convert list to series.\n"
   ]
  },
  {
   "cell_type": "code",
   "execution_count": 3,
   "id": "5ce790fb-4db9-4906-a5f8-974f493e4d99",
   "metadata": {},
   "outputs": [
    {
     "name": "stdout",
     "output_type": "stream",
     "text": [
      "List :  [10, 20, 30, 40, 50]\n",
      "Series : \n",
      "0    10\n",
      "1    20\n",
      "2    30\n",
      "3    40\n",
      "4    50\n",
      "dtype: int64\n"
     ]
    }
   ],
   "source": [
    "l = [10,20,30,40,50]\n",
    "s = pd.Series(l)\n",
    "print(\"List : \",l)\n",
    "print(\"Series : \")\n",
    "print(s)"
   ]
  },
  {
   "cell_type": "markdown",
   "id": "811454a1-535c-4ab1-a8c9-0882c2ee95df",
   "metadata": {},
   "source": [
    "### Write a python program to generate series of dates from 1 August 2024 to 15 August 2024.\n"
   ]
  },
  {
   "cell_type": "code",
   "execution_count": 9,
   "id": "1102c75b-8db3-4c61-bb3b-cd60f5ad9531",
   "metadata": {},
   "outputs": [
    {
     "name": "stdout",
     "output_type": "stream",
     "text": [
      "DatetimeIndex(['2024-08-01', '2024-08-02', '2024-08-03', '2024-08-04',\n",
      "               '2024-08-05', '2024-08-06', '2024-08-07', '2024-08-08',\n",
      "               '2024-08-09', '2024-08-10', '2024-08-11', '2024-08-12',\n",
      "               '2024-08-13', '2024-08-14', '2024-08-15'],\n",
      "              dtype='datetime64[ns]', freq='D')\n",
      "0    2024-08-01\n",
      "1    2024-08-02\n",
      "2    2024-08-03\n",
      "3    2024-08-04\n",
      "4    2024-08-05\n",
      "5    2024-08-06\n",
      "6    2024-08-07\n",
      "7    2024-08-08\n",
      "8    2024-08-09\n",
      "9    2024-08-10\n",
      "10   2024-08-11\n",
      "11   2024-08-12\n",
      "12   2024-08-13\n",
      "13   2024-08-14\n",
      "14   2024-08-15\n",
      "dtype: datetime64[ns]\n"
     ]
    }
   ],
   "source": [
    "start = \"2024-08-01\"\n",
    "end = \"2024-08-15\"\n",
    "dates = pd.date_range(start,end)\n",
    "print(dates)\n",
    "dates_series = pd.Series(dates)\n",
    "print(dates_series)"
   ]
  },
  {
   "cell_type": "markdown",
   "id": "d751f19f-2e41-44e2-8bb0-b8637cd7aaa3",
   "metadata": {},
   "source": [
    "### 3. Write a program to convert a dictionary to DataFrame and display it"
   ]
  },
  {
   "cell_type": "code",
   "execution_count": 11,
   "id": "9a63285f-033b-40f9-906a-c5ab9e8c3b2f",
   "metadata": {},
   "outputs": [
    {
     "name": "stdout",
     "output_type": "stream",
     "text": [
      "   Age  Height  Weight\n",
      "0   12     120      34\n",
      "1   14     135      36\n",
      "2   16     146      41\n",
      "3   18     156      45\n",
      "4   20     160      50\n"
     ]
    }
   ],
   "source": [
    "dict = {\n",
    "    \"Age\":[12,14,16,18,20],\n",
    "    \"Height\":[120,135,146,156,160],\n",
    "    \"Weight\":[34,36,41,45,50]\n",
    "}\n",
    "df = pd.DataFrame(dict)\n",
    "print(df)"
   ]
  },
  {
   "cell_type": "markdown",
   "id": "cf8b67fc-245d-409b-b092-edb30489bd0b",
   "metadata": {},
   "source": [
    "### 4. Write a program to create a 2D list and covert it into DataFrame and display it."
   ]
  },
  {
   "cell_type": "code",
   "execution_count": 12,
   "id": "3c463b53-4108-4740-b1df-abaa68229aa9",
   "metadata": {},
   "outputs": [
    {
     "name": "stdout",
     "output_type": "stream",
     "text": [
      "    Name  Age  Height\n",
      "0   Eddy   12     120\n",
      "1  Flora   16     146\n",
      "2  Frank   20     160\n"
     ]
    }
   ],
   "source": [
    "data = [\n",
    "    [\"Eddy\",12,120],\n",
    "    [\"Flora\",16,146],\n",
    "    [\"Frank\",20,160]\n",
    "]\n",
    "col_names = [\"Name\",\"Age\",\"Height\"]\n",
    "df = pd.DataFrame(data,columns=col_names)\n",
    "print(df)"
   ]
  },
  {
   "cell_type": "code",
   "execution_count": null,
   "id": "07e6fe01-1afa-477f-bb56-836fb1ad3c98",
   "metadata": {},
   "outputs": [],
   "source": []
  }
 ],
 "metadata": {
  "kernelspec": {
   "display_name": "Python 3 (ipykernel)",
   "language": "python",
   "name": "python3"
  },
  "language_info": {
   "codemirror_mode": {
    "name": "ipython",
    "version": 3
   },
   "file_extension": ".py",
   "mimetype": "text/x-python",
   "name": "python",
   "nbconvert_exporter": "python",
   "pygments_lexer": "ipython3",
   "version": "3.12.5"
  }
 },
 "nbformat": 4,
 "nbformat_minor": 5
}
